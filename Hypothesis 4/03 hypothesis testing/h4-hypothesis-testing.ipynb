{
 "cells": [
  {
   "cell_type": "code",
   "execution_count": null,
   "id": "8513a530-b2a8-4906-8798-037f45330053",
   "metadata": {},
   "outputs": [],
   "source": [
    "import sys\n",
    "sys.path.append('/Hypothesis 4/')\n",
    "\n",
    "from config import files_directory\n",
    "\n",
    "import pandas as pd"
   ]
  },
  {
   "cell_type": "code",
   "execution_count": 2,
   "id": "d353ba86-c704-4dfe-aad5-7ffea4eac76d",
   "metadata": {},
   "outputs": [],
   "source": [
    "# Import transformed raw files\n",
    "\n",
    "df_table6 = pd.read_csv(f\"{files_directory}/df_table6_age.csv\")\n",
    "df_table10 = pd.read_csv(f\"{files_directory}/df_table10_age.csv\")"
   ]
  },
  {
   "cell_type": "markdown",
   "id": "366e5dc1-e62c-4715-bf73-f88c10067202",
   "metadata": {},
   "source": [
    "## Statistical Analysis: Age, Sex and Transmission Category"
   ]
  },
  {
   "cell_type": "markdown",
   "id": "8d940882-c7cd-48a3-b7ba-3a6054edff5f",
   "metadata": {
    "jp-MarkdownHeadingCollapsed": true
   },
   "source": [
    "### 1. Age Group Hypothesis:\n",
    "- **Null Hypothesis (H₀):** Age groups 15-19, 20-24, and 25-29 are **not** more likely to get diagnosed with HIV compared to other age groups.\n",
    "- **Alternative Hypothesis (H₁):** Age groups 15-19, 20-24, and 25-29 are **more** likely to get diagnosed with HIV compared to other age groups.\n",
    "- **Significance Level:** 0.05 (probability threshold for rejecting the null hypothesis).\n",
    "- **Statistical Method:** Chi-square statistic\n",
    "  - Categorical data: The age groups and diagnoses are represented as aggregated counts of categorical variables, therefore this test is well suited for determining if there is a significant association between categorical variables.\n",
    "  - Independence: Test whether the number of diagnoses in certain age groups is independent of other age groups. The chi-square test of independence evaluates whether the observed frequencies of diagnoses are significantly different from what we would expect under the assumption that there is no association between age group and diagnosis rate.\n",
    "\n",
    "- [Reference](https://dwstockburger.com/Introbook/sbk22.htm#:~:text=Hypothesis%20Testing%20with%20Contingency%20Tables&text=That%20is%2C%20a%20statistic%20is,called%20the%20chi%2Dsquare%20statistic.)\n",
    "\n",
    "\n",
    "### Chi-Square (χ²) Formula:\n",
    "\n",
    "The chi-square statistic is calculated as:\n",
    "\n",
    "$$\n",
    "\\chi^2 = \\sum \\frac{(O_i - E_i)^2}{E_i}\n",
    "$$\n",
    "\n",
    "Where:\n",
    "- \\(O_i\\) = Observed frequency in each category\n",
    "- \\(E_i\\) = Expected frequency in each category, assuming the null hypothesis is true\n",
    "- The sum is taken over all categories"
   ]
  },
  {
   "cell_type": "code",
   "execution_count": 3,
   "id": "7d4f6606-7a0d-4879-b5e1-1f152a640803",
   "metadata": {},
   "outputs": [],
   "source": [
    "from scipy.stats import chi2_contingency"
   ]
  },
  {
   "cell_type": "code",
   "execution_count": 4,
   "id": "a05f96b4-ab9a-4bff-a2d0-e87da836d262",
   "metadata": {},
   "outputs": [],
   "source": [
    "# Focus on the relevant age groups for the age hypothesis\n",
    "age_groups_interest = ['15 - 19', '20 - 24', '25 - 29']"
   ]
  },
  {
   "cell_type": "code",
   "execution_count": 6,
   "id": "3bee1570-eae6-4ef1-b148-32393a994d77",
   "metadata": {},
   "outputs": [],
   "source": [
    "# Group by age and sum diagnoses in df_table6 (to address the age and sex hypotheses)\n",
    "age_group_summary = df_table6.groupby('Age Group')['Number of diagnosis'].sum()"
   ]
  },
  {
   "cell_type": "code",
   "execution_count": 7,
   "id": "57af2306-e2c7-4ba2-a9a6-5fd2f9a38536",
   "metadata": {},
   "outputs": [],
   "source": [
    "# Define the subset for age groups of interest and everything else\n",
    "age_groups_interest_data = age_group_summary.loc[age_groups_interest].sum()  # Sum of interest groups\n",
    "other_age_groups_data = age_group_summary.drop(age_groups_interest).sum()    # Sum of other age groups"
   ]
  },
  {
   "cell_type": "markdown",
   "id": "02f28737-b46e-4787-b3f4-2eaadb30b049",
   "metadata": {},
   "source": [
    "**Contingency Table**\n",
    "\n",
    "|                            | Diagnosed in Age Groups of Interest | Diagnosed in Other Age Groups | Total Diagnosed |\n",
    "|----------------------------|-------------------------------------|------------------------------|----------------|\n",
    "| **HIV Diagnosed**           | 141,747                            | 233,549                      | 375,296        |\n",
    "| **Total Diagnosed**         | 375,296                            | 375,296                      | 750,592        |"
   ]
  },
  {
   "cell_type": "code",
   "execution_count": 8,
   "id": "42e8108b-e501-43d1-8552-59361d75d254",
   "metadata": {},
   "outputs": [],
   "source": [
    "# Create a contingency table for the chi-square test\n",
    "contingency_table = [\n",
    "    [age_groups_interest_data, other_age_groups_data],\n",
    "    [df_table6['Number of diagnosis'].sum(), df_table6['Number of diagnosis'].sum()]\n",
    "]"
   ]
  },
  {
   "cell_type": "code",
   "execution_count": 9,
   "id": "73fc0733-27a7-4a75-8f30-59e4e7b7f754",
   "metadata": {},
   "outputs": [
    {
     "data": {
      "text/plain": [
       "[[141747, 233549], [375296, 375296]]"
      ]
     },
     "execution_count": 9,
     "metadata": {},
     "output_type": "execute_result"
    }
   ],
   "source": [
    "contingency_table"
   ]
  },
  {
   "cell_type": "code",
   "execution_count": 10,
   "id": "3ba8918f-2fd1-408a-a69a-1a2fe6a05852",
   "metadata": {},
   "outputs": [
    {
     "data": {
      "text/plain": [
       "(15070.299428358769,\n",
       " 0.0,\n",
       " 1,\n",
       " array([[172347.66666667, 202948.33333333],\n",
       "        [344695.33333333, 405896.66666667]]))"
      ]
     },
     "execution_count": 10,
     "metadata": {},
     "output_type": "execute_result"
    }
   ],
   "source": [
    "# Perform the chi-square test\n",
    "# p: p-value\n",
    "# dof: degrees of freedom\n",
    "chi2, p, dof, expected = chi2_contingency(contingency_table)\n",
    "\n",
    "# Output the results\n",
    "chi2, p, dof, expected"
   ]
  },
  {
   "cell_type": "markdown",
   "id": "6f5c518c-40bb-445a-b7c3-378055a83d4d",
   "metadata": {},
   "source": [
    "**Observed vs Expected Values**\n",
    "\n",
    "| Age Group Category             | Observed Value | Expected Value |\n",
    "|--------------------------------|----------------|----------------|\n",
    "| **Age Groups of Interest**      | 141,747        | 172,348        |\n",
    "| **Other Age Groups**            | 233,549        | 202,948        |\n"
   ]
  },
  {
   "cell_type": "markdown",
   "id": "66b7f2a7-155c-4abc-8a42-692b3c08aa3a",
   "metadata": {},
   "source": [
    "The p-value is effectively 0, which is much smaller than the standard significance level (0.05). This means we reject the null hypothesis, providing strong evidence that the age groups 15-19, 20-24, and 25-29 are more likely to be diagnosed with HIV compared to other age groups."
   ]
  },
  {
   "cell_type": "markdown",
   "id": "59ca918a-dd29-4b9b-a083-ddf501ac9fd4",
   "metadata": {},
   "source": [
    "### 2. Sex Hypothesis:\n",
    "- **Null Hypothesis (H₀):** Males are **not** more likely to get diagnosed with HIV than females.\n",
    "- **Alternative Hypothesis (H₁):** Males are **more** likely to get diagnosed with HIV than females.\n",
    "- **Data Limitations:** Unfortunately, the only available data published by the government is an aggregated from 1983 to 2024. I recognize that this is not ideal and that we should have cases by sex and year, that way we could analyze HIV diagnoses relative to the total population size for each sex and year. We recognize that aggregated data over such a long period averages out fluctuations in population growth, health policies, medical advacements or socio economic factors that could have influenced diagnosis rates.\n",
    "- **Data Enhancements:** To alleviate for the previous limitation, I will compare the proportions of diagnoses between males and females within each age group. This will alow to assess whether males account for a disproportionate share of diagnoses compared to females.\n",
    "\n",
    "\n",
    "To-do:\n",
    "-completar esta seccion con toda la informacion\n",
    "-agregar limitaciones de la data\n",
    "-hacer proportional comparison"
   ]
  },
  {
   "cell_type": "markdown",
   "id": "48c42f48-71af-4aeb-89eb-2fcd39687707",
   "metadata": {},
   "source": [
    "### 3. Transmission Category Hypothesis:\n",
    "- **Null Hypothesis (H₀):** Sexual transmission is **not** the most common way to contract HIV compared to other modes of transmission.\n",
    "- **Alternative Hypothesis (H₁):** Sexual transmission is the **most common** way to contract HIV compared to other modes of transmission."
   ]
  },
  {
   "cell_type": "code",
   "execution_count": null,
   "id": "e386b925-6a5f-40ba-952f-a3902daf229a",
   "metadata": {},
   "outputs": [],
   "source": [
    "# Group by sex and sum diagnoses (to address the sex hypothesis)\n",
    "sex_group_summary = df_table6.groupby('Sex')['Number of diagnosis'].sum()\n",
    "\n",
    "# Step 2: Summarize data for Transmission Category Hypothesis\n",
    "# Group by Transmission Category in df_table10 to check the most common way of transmission\n",
    "transmission_summary = df_table10.groupby('Transmission Category')['Number of diagnosis'].sum()"
   ]
  }
 ],
 "metadata": {
  "kernelspec": {
   "display_name": "Python 3 (ipykernel)",
   "language": "python",
   "name": "python3"
  },
  "language_info": {
   "codemirror_mode": {
    "name": "ipython",
    "version": 3
   },
   "file_extension": ".py",
   "mimetype": "text/x-python",
   "name": "python",
   "nbconvert_exporter": "python",
   "pygments_lexer": "ipython3",
   "version": "3.12.7"
  }
 },
 "nbformat": 4,
 "nbformat_minor": 5
}
